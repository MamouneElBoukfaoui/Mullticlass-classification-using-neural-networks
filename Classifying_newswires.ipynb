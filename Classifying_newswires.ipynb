{
  "nbformat": 4,
  "nbformat_minor": 0,
  "metadata": {
    "colab": {
      "provenance": [],
      "authorship_tag": "ABX9TyPk1w06Sj0usB91H33yoOMf"
    },
    "kernelspec": {
      "name": "python3",
      "display_name": "Python 3"
    },
    "language_info": {
      "name": "python"
    }
  },
  "cells": [
    {
      "cell_type": "markdown",
      "source": [
        "# Single label multiclass classification problem\n"
      ],
      "metadata": {
        "id": "eeyvvSFGNU4U"
      }
    },
    {
      "cell_type": "code",
      "source": [
        "import tensorflow as tf\n",
        "import matplotlib.pyplot as plt\n",
        "from tensorflow.keras.datasets import reuters\n",
        "from tensorflow.keras import layers\n",
        "import keras\n",
        "\n",
        "(train_data, train_labels) , (test_data, test_labels) = reuters.load_data(num_words=10000)"
      ],
      "metadata": {
        "id": "Q3BuNImTNjXr",
        "colab": {
          "base_uri": "https://localhost:8080/"
        },
        "outputId": "11bd3a8d-9a44-4e73-caaa-3aace88c2a8c"
      },
      "execution_count": null,
      "outputs": [
        {
          "output_type": "stream",
          "name": "stdout",
          "text": [
            "Downloading data from https://storage.googleapis.com/tensorflow/tf-keras-datasets/reuters.npz\n",
            "2110848/2110848 [==============================] - 0s 0us/step\n"
          ]
        }
      ]
    },
    {
      "cell_type": "code",
      "source": [
        "train_data"
      ],
      "metadata": {
        "colab": {
          "base_uri": "https://localhost:8080/"
        },
        "id": "zqUYOrwbOaCS",
        "outputId": "551f1723-6432-4a6f-b5ae-7b728bac6464"
      },
      "execution_count": null,
      "outputs": [
        {
          "output_type": "execute_result",
          "data": {
            "text/plain": [
              "array([list([1, 2, 2, 8, 43, 10, 447, 5, 25, 207, 270, 5, 3095, 111, 16, 369, 186, 90, 67, 7, 89, 5, 19, 102, 6, 19, 124, 15, 90, 67, 84, 22, 482, 26, 7, 48, 4, 49, 8, 864, 39, 209, 154, 6, 151, 6, 83, 11, 15, 22, 155, 11, 15, 7, 48, 9, 4579, 1005, 504, 6, 258, 6, 272, 11, 15, 22, 134, 44, 11, 15, 16, 8, 197, 1245, 90, 67, 52, 29, 209, 30, 32, 132, 6, 109, 15, 17, 12]),\n",
              "       list([1, 3267, 699, 3434, 2295, 56, 2, 7511, 9, 56, 3906, 1073, 81, 5, 1198, 57, 366, 737, 132, 20, 4093, 7, 2, 49, 2295, 2, 1037, 3267, 699, 3434, 8, 7, 10, 241, 16, 855, 129, 231, 783, 5, 4, 587, 2295, 2, 2, 775, 7, 48, 34, 191, 44, 35, 1795, 505, 17, 12]),\n",
              "       list([1, 53, 12, 284, 15, 14, 272, 26, 53, 959, 32, 818, 15, 14, 272, 26, 39, 684, 70, 11, 14, 12, 3886, 18, 180, 183, 187, 70, 11, 14, 102, 32, 11, 29, 53, 44, 704, 15, 14, 19, 758, 15, 53, 959, 47, 1013, 15, 14, 19, 132, 15, 39, 965, 32, 11, 14, 147, 72, 11, 180, 183, 187, 44, 11, 14, 102, 19, 11, 123, 186, 90, 67, 960, 4, 78, 13, 68, 467, 511, 110, 59, 89, 90, 67, 1390, 55, 2678, 92, 617, 80, 1274, 46, 905, 220, 13, 4, 346, 48, 235, 629, 5, 211, 5, 1118, 7, 2, 81, 5, 187, 11, 15, 9, 1709, 201, 5, 47, 3615, 18, 478, 4514, 5, 1118, 7, 232, 2, 71, 5, 160, 63, 11, 9, 2, 81, 5, 102, 59, 11, 17, 12]),\n",
              "       ...,\n",
              "       list([1, 141, 3890, 387, 81, 8, 16, 1629, 10, 340, 1241, 850, 31, 56, 3890, 691, 9, 1241, 71, 9, 5985, 2, 2, 699, 2, 2, 2, 699, 244, 5945, 4, 49, 8, 4, 656, 850, 33, 2993, 9, 2139, 340, 3371, 1493, 9, 2, 22, 2, 1094, 687, 83, 35, 15, 257, 6, 57, 9190, 7, 4, 5956, 654, 5, 2, 6191, 1371, 4, 49, 8, 16, 369, 646, 6, 1076, 7, 124, 407, 17, 12]),\n",
              "       list([1, 53, 46, 957, 26, 14, 74, 132, 26, 39, 46, 258, 3614, 18, 14, 74, 134, 5131, 18, 88, 2321, 72, 11, 14, 1842, 32, 11, 123, 383, 89, 39, 46, 235, 10, 864, 728, 5, 258, 44, 11, 15, 22, 753, 9, 42, 92, 131, 728, 5, 69, 312, 11, 15, 22, 222, 2, 3237, 383, 48, 39, 74, 235, 10, 864, 276, 5, 61, 32, 11, 15, 21, 4, 211, 5, 126, 1072, 42, 92, 131, 46, 19, 352, 11, 15, 22, 710, 220, 9, 42, 92, 131, 276, 5, 59, 61, 11, 15, 22, 10, 455, 7, 1172, 137, 336, 1325, 6, 1532, 142, 971, 6463, 43, 359, 5, 4, 326, 753, 364, 17, 12]),\n",
              "       list([1, 227, 2406, 91, 2, 125, 2855, 21, 4, 3976, 76, 7, 4, 757, 481, 3976, 790, 5259, 5654, 9, 111, 149, 8, 7, 10, 76, 223, 51, 4, 417, 8, 1047, 91, 6917, 1688, 340, 7, 194, 9411, 6, 1894, 21, 127, 2151, 2394, 1456, 6, 3034, 4, 329, 433, 7, 65, 87, 1127, 10, 8219, 1475, 290, 9, 21, 567, 16, 1926, 24, 4, 76, 209, 30, 4033, 6655, 5654, 8, 4, 60, 8, 4, 966, 308, 40, 2575, 129, 2, 295, 277, 1071, 9, 24, 286, 2114, 234, 222, 9, 4, 906, 3994, 8519, 114, 5758, 1752, 7, 4, 113, 17, 12])],\n",
              "      dtype=object)"
            ]
          },
          "metadata": {},
          "execution_count": 3
        }
      ]
    },
    {
      "cell_type": "markdown",
      "source": [
        "# Data preparation"
      ],
      "metadata": {
        "id": "m4ncbyi8XSmu"
      }
    },
    {
      "cell_type": "markdown",
      "source": [
        "Decoding newswires back to text\n"
      ],
      "metadata": {
        "id": "b2aafzcxOrak"
      }
    },
    {
      "cell_type": "code",
      "source": [
        "w_index = reuters.get_word_index()\n",
        "reverse_w_index = dict([(value,key) for (key,value) in w_index.items()])\n",
        "decoded_newswire = ' '.join([reverse_w_index.get(i-3, \"?\") for i in train_data[0]])# indices 0,1 and 2 are reserved for padding, start of sequence and unkown token\n",
        "decoded_newswire"
      ],
      "metadata": {
        "colab": {
          "base_uri": "https://localhost:8080/",
          "height": 87
        },
        "id": "U8f1p-Ya0Tmb",
        "outputId": "a00e0cff-22c6-49a0-ef3c-bc5650f6c47b"
      },
      "execution_count": null,
      "outputs": [
        {
          "output_type": "stream",
          "name": "stdout",
          "text": [
            "Downloading data from https://storage.googleapis.com/tensorflow/tf-keras-datasets/reuters_word_index.json\n",
            "550378/550378 [==============================] - 0s 0us/step\n"
          ]
        },
        {
          "output_type": "execute_result",
          "data": {
            "text/plain": [
              "'? ? ? said as a result of its december acquisition of space co it expects earnings per share in 1987 of 1 15 to 1 30 dlrs per share up from 70 cts in 1986 the company said pretax net should rise to nine to 10 mln dlrs from six mln dlrs in 1986 and rental operation revenues to 19 to 22 mln dlrs from 12 5 mln dlrs it said cash flow per share this year should be 2 50 to three dlrs reuter 3'"
            ],
            "application/vnd.google.colaboratory.intrinsic+json": {
              "type": "string"
            }
          },
          "metadata": {},
          "execution_count": 4
        }
      ]
    },
    {
      "cell_type": "code",
      "source": [
        "import numpy as np\n",
        "\n",
        "def vectorize_sequences(sequences, dimension= 10000):\n",
        "    results = np.zeros((len(sequences), dimension))\n",
        "    for i, sequence in enumerate(sequences):\n",
        "      for j in sequence:\n",
        "        results[i, j] =1\n",
        "    return results"
      ],
      "metadata": {
        "id": "x-qcD3p4IWSi"
      },
      "execution_count": null,
      "outputs": []
    },
    {
      "cell_type": "code",
      "source": [
        "x_train =  vectorize_sequences(train_data)\n",
        "x_test = vectorize_sequences(test_data)\n",
        "\n",
        "x_train"
      ],
      "metadata": {
        "id": "uUKqBcghDhyn",
        "colab": {
          "base_uri": "https://localhost:8080/"
        },
        "outputId": "fcb5a6c8-b2ec-4fe4-bddc-fcb94ef0a15a"
      },
      "execution_count": null,
      "outputs": [
        {
          "output_type": "execute_result",
          "data": {
            "text/plain": [
              "array([[0., 1., 1., ..., 0., 0., 0.],\n",
              "       [0., 1., 1., ..., 0., 0., 0.],\n",
              "       [0., 1., 1., ..., 0., 0., 0.],\n",
              "       ...,\n",
              "       [0., 1., 1., ..., 0., 0., 0.],\n",
              "       [0., 1., 1., ..., 0., 0., 0.],\n",
              "       [0., 1., 1., ..., 0., 0., 0.]])"
            ]
          },
          "metadata": {},
          "execution_count": 6
        }
      ]
    },
    {
      "cell_type": "code",
      "source": [
        "# One hot encoding function\n",
        "def to_one_hot(labels, dimension):\n",
        "    results = np.zeros((len(labels), dimension))\n",
        "    for i, label in enumerate(labels):\n",
        "      results[i, label] = 1\n",
        "    return results\n",
        "\n",
        "y_train = to_one_hot(train_labels, dimension = 46)\n",
        "y_test = to_one_hot(test_labels, dimension = 46)\n"
      ],
      "metadata": {
        "id": "PvylMF42R9lu"
      },
      "execution_count": null,
      "outputs": []
    },
    {
      "cell_type": "markdown",
      "source": [
        "# Model building\n"
      ],
      "metadata": {
        "id": "q-F-xO2pXdxp"
      }
    },
    {
      "cell_type": "code",
      "source": [
        "# We use 64 dimensional layers as 16 dimensional layers may be unefficient to learn to classify 46 classes because if we used 16 dimensional layers information will be lost at each layer resulting in bad training\n",
        "\n",
        "model = keras.Sequential([layers.Dense(64, activation = 'relu'), layers.Dense(64, activation='relu'), layers.Dense(46, activation='softmax')])\n",
        "\n",
        "model.compile(optimizer='rmsprop', loss= 'categorical_crossentropy', metrics=['accuracy'])\n"
      ],
      "metadata": {
        "id": "b7CNRuqOWCik"
      },
      "execution_count": null,
      "outputs": []
    },
    {
      "cell_type": "markdown",
      "source": [
        "# Model validation"
      ],
      "metadata": {
        "id": "Iz2ZQzZdXoG5"
      }
    },
    {
      "cell_type": "code",
      "source": [
        "# Model validation\n",
        "\n",
        "x_val = x_train[:1000]\n",
        "partial_x_train = x_train[1000:]\n",
        "y_val = y_train[:1000]\n",
        "partial_y_train =  y_train[1000:]\n"
      ],
      "metadata": {
        "id": "8cEc8FWyKA0d"
      },
      "execution_count": null,
      "outputs": []
    },
    {
      "cell_type": "code",
      "source": [
        "history = model.fit(partial_x_train, partial_y_train, epochs=20, batch_size=512, validation_data=(x_val,y_val))"
      ],
      "metadata": {
        "colab": {
          "base_uri": "https://localhost:8080/"
        },
        "id": "3WLe_gEKRKPb",
        "outputId": "9c9edd63-3e61-4d71-ca09-9a2288cfedbe"
      },
      "execution_count": null,
      "outputs": [
        {
          "output_type": "stream",
          "name": "stdout",
          "text": [
            "Epoch 1/20\n",
            "16/16 [==============================] - 2s 76ms/step - loss: 2.5413 - accuracy: 0.4850 - val_loss: 1.7179 - val_accuracy: 0.6370\n",
            "Epoch 2/20\n",
            "16/16 [==============================] - 1s 53ms/step - loss: 1.4610 - accuracy: 0.6859 - val_loss: 1.3366 - val_accuracy: 0.6880\n",
            "Epoch 3/20\n",
            "16/16 [==============================] - 1s 51ms/step - loss: 1.1315 - accuracy: 0.7561 - val_loss: 1.1478 - val_accuracy: 0.7470\n",
            "Epoch 4/20\n",
            "16/16 [==============================] - 1s 53ms/step - loss: 0.9302 - accuracy: 0.8009 - val_loss: 1.0422 - val_accuracy: 0.7750\n",
            "Epoch 5/20\n",
            "16/16 [==============================] - 1s 49ms/step - loss: 0.7646 - accuracy: 0.8334 - val_loss: 0.9782 - val_accuracy: 0.7840\n",
            "Epoch 6/20\n",
            "16/16 [==============================] - 1s 50ms/step - loss: 0.6374 - accuracy: 0.8598 - val_loss: 0.9232 - val_accuracy: 0.8090\n",
            "Epoch 7/20\n",
            "16/16 [==============================] - 1s 55ms/step - loss: 0.5291 - accuracy: 0.8867 - val_loss: 0.9018 - val_accuracy: 0.8090\n",
            "Epoch 8/20\n",
            "16/16 [==============================] - 1s 53ms/step - loss: 0.4422 - accuracy: 0.9088 - val_loss: 0.8792 - val_accuracy: 0.8100\n",
            "Epoch 9/20\n",
            "16/16 [==============================] - 1s 52ms/step - loss: 0.3800 - accuracy: 0.9212 - val_loss: 0.8626 - val_accuracy: 0.8180\n",
            "Epoch 10/20\n",
            "16/16 [==============================] - 1s 52ms/step - loss: 0.3183 - accuracy: 0.9311 - val_loss: 0.8545 - val_accuracy: 0.8250\n",
            "Epoch 11/20\n",
            "16/16 [==============================] - 1s 62ms/step - loss: 0.2806 - accuracy: 0.9367 - val_loss: 0.9218 - val_accuracy: 0.8090\n",
            "Epoch 12/20\n",
            "16/16 [==============================] - 1s 86ms/step - loss: 0.2448 - accuracy: 0.9451 - val_loss: 0.8711 - val_accuracy: 0.8170\n",
            "Epoch 13/20\n",
            "16/16 [==============================] - 1s 82ms/step - loss: 0.2142 - accuracy: 0.9481 - val_loss: 0.8580 - val_accuracy: 0.8220\n",
            "Epoch 14/20\n",
            "16/16 [==============================] - 1s 57ms/step - loss: 0.1925 - accuracy: 0.9515 - val_loss: 0.8982 - val_accuracy: 0.8250\n",
            "Epoch 15/20\n",
            "16/16 [==============================] - 1s 50ms/step - loss: 0.1772 - accuracy: 0.9531 - val_loss: 0.8951 - val_accuracy: 0.8210\n",
            "Epoch 16/20\n",
            "16/16 [==============================] - 1s 49ms/step - loss: 0.1635 - accuracy: 0.9541 - val_loss: 0.9209 - val_accuracy: 0.8110\n",
            "Epoch 17/20\n",
            "16/16 [==============================] - 1s 50ms/step - loss: 0.1559 - accuracy: 0.9554 - val_loss: 0.9619 - val_accuracy: 0.8200\n",
            "Epoch 18/20\n",
            "16/16 [==============================] - 1s 50ms/step - loss: 0.1459 - accuracy: 0.9562 - val_loss: 0.8969 - val_accuracy: 0.8210\n",
            "Epoch 19/20\n",
            "16/16 [==============================] - 1s 53ms/step - loss: 0.1373 - accuracy: 0.9570 - val_loss: 0.9742 - val_accuracy: 0.8080\n",
            "Epoch 20/20\n",
            "16/16 [==============================] - 1s 50ms/step - loss: 0.1321 - accuracy: 0.9582 - val_loss: 0.9608 - val_accuracy: 0.8080\n"
          ]
        }
      ]
    },
    {
      "cell_type": "code",
      "source": [
        "loss = history.history['loss']\n",
        "val_loss = history.history['val_loss']\n",
        "epochs = range(1, len(loss) + 1)\n",
        "plt.plot(epochs, loss, 'bo', label= 'Training loss')\n",
        "plt.plot(epochs, val_loss, 'b', label='Validation loss')\n",
        "plt.title('Training and validation loss')\n",
        "plt.xlabel('Epochs')\n",
        "plt.ylabel('Loss')\n",
        "plt.legend()\n",
        "plt.show()"
      ],
      "metadata": {
        "colab": {
          "base_uri": "https://localhost:8080/",
          "height": 472
        },
        "id": "4X7o8sbKSDLf",
        "outputId": "154a7f74-fe17-4f96-b819-37f16c6a16d7"
      },
      "execution_count": null,
      "outputs": [
        {
          "output_type": "display_data",
          "data": {
            "text/plain": [
              "<Figure size 640x480 with 1 Axes>"
            ],
            "image/png": "[encoded data removed]"
          },
          "metadata": {}
        }
      ]
    },
    {
      "cell_type": "code",
      "source": [
        "plt.clf()\n",
        "acc = history.history['accuracy']\n",
        "val_acc = history.history['val_accuracy']\n",
        "plt.plot(epochs, acc, 'bo', label= 'Training accuracy')\n",
        "plt.plot(epochs, val_acc, 'b', label= 'Validation accuracy')\n",
        "plt.title('Training and validation accuracy')\n",
        "plt.xlabel('Epochs')\n",
        "plt.ylabel('Accuracy')\n",
        "plt.legend()\n",
        "plt.show()\n"
      ],
      "metadata": {
        "colab": {
          "base_uri": "https://localhost:8080/",
          "height": 472
        },
        "id": "UpsnlVi8T22w",
        "outputId": "2b535a7e-aedd-45a9-9a58-79426419d7c8"
      },
      "execution_count": null,
      "outputs": [
        {
          "output_type": "display_data",
          "data": {
            "text/plain": [
              "<Figure size 640x480 with 1 Axes>"
            ],
            "image/png": "[encoded data removed]"
          },
          "metadata": {}
        }
      ]
    },
    {
      "cell_type": "markdown",
      "source": [
        "The model tend to overfit around 12 epochs, we fit a new model with 12 epochs"
      ],
      "metadata": {
        "id": "K7-iMfKaVbdh"
      }
    },
    {
      "cell_type": "code",
      "source": [
        "new_model =  keras.Sequential([layers.Dense(64,'relu'), layers.Dense(64,'relu'), layers.Dense(46, 'softmax')])\n",
        "\n",
        "new_model.compile(optimizer='rmsprop', loss= 'categorical_crossentropy', metrics= ['accuracy'])\n",
        "new_model.fit(x_train, y_train, epochs=12, batch_size=512)\n",
        "results = new_model.evaluate(x_test, y_test)\n",
        "results"
      ],
      "metadata": {
        "colab": {
          "base_uri": "https://localhost:8080/"
        },
        "id": "2qfrMALpWE0r",
        "outputId": "0081d893-9194-4894-f0c2-7760c0121b32"
      },
      "execution_count": null,
      "outputs": [
        {
          "output_type": "stream",
          "name": "stdout",
          "text": [
            "Epoch 1/12\n",
            "18/18 [==============================] - 1s 44ms/step - loss: 2.7579 - accuracy: 0.5247\n",
            "Epoch 2/12\n",
            "18/18 [==============================] - 1s 46ms/step - loss: 1.5204 - accuracy: 0.6869\n",
            "Epoch 3/12\n",
            "18/18 [==============================] - 1s 49ms/step - loss: 1.1484 - accuracy: 0.7508\n",
            "Epoch 4/12\n",
            "18/18 [==============================] - 1s 75ms/step - loss: 0.9312 - accuracy: 0.7987\n",
            "Epoch 5/12\n",
            "18/18 [==============================] - 1s 72ms/step - loss: 0.7724 - accuracy: 0.8304\n",
            "Epoch 6/12\n",
            "18/18 [==============================] - 1s 80ms/step - loss: 0.6389 - accuracy: 0.8611\n",
            "Epoch 7/12\n",
            "18/18 [==============================] - 1s 49ms/step - loss: 0.5367 - accuracy: 0.8860\n",
            "Epoch 8/12\n",
            "18/18 [==============================] - 1s 45ms/step - loss: 0.4455 - accuracy: 0.9068\n",
            "Epoch 9/12\n",
            "18/18 [==============================] - 1s 46ms/step - loss: 0.3789 - accuracy: 0.9221\n",
            "Epoch 10/12\n",
            "18/18 [==============================] - 1s 46ms/step - loss: 0.3259 - accuracy: 0.9295\n",
            "Epoch 11/12\n",
            "18/18 [==============================] - 1s 48ms/step - loss: 0.2771 - accuracy: 0.9398\n",
            "Epoch 12/12\n",
            "18/18 [==============================] - 1s 46ms/step - loss: 0.2453 - accuracy: 0.9427\n",
            "71/71 [==============================] - 0s 4ms/step - loss: 0.9570 - accuracy: 0.7930\n"
          ]
        },
        {
          "output_type": "execute_result",
          "data": {
            "text/plain": [
              "[0.9569594860076904, 0.792965292930603]"
            ]
          },
          "metadata": {},
          "execution_count": 13
        }
      ]
    },
    {
      "cell_type": "markdown",
      "source": [
        "Around 80% accuracy is reached by the new model"
      ],
      "metadata": {
        "id": "aBE8jI7QkCTb"
      }
    },
    {
      "cell_type": "markdown",
      "source": [
        "# Predictions on test data\n",
        "\n"
      ],
      "metadata": {
        "id": "CYJVJvSVX2vz"
      }
    },
    {
      "cell_type": "code",
      "source": [
        "predictions = new_model.predict(x_test)\n",
        "predictions.shape # prediction of each data point is a vector of length 46\n",
        "predictions[0].shape # prediction of the first test input\n",
        "np.sum(predictions[0]) # probabilties sum to 1\n",
        "np.argmax(predictions[0]) # class with the largest probability\n"
      ],
      "metadata": {
        "colab": {
          "base_uri": "https://localhost:8080/"
        },
        "id": "yuuqD5V4S2oK",
        "outputId": "3f6603dd-c4ea-44b6-f3a0-536858a2ac9b"
      },
      "execution_count": null,
      "outputs": [
        {
          "output_type": "stream",
          "name": "stdout",
          "text": [
            "71/71 [==============================] - 1s 9ms/step\n"
          ]
        },
        {
          "output_type": "execute_result",
          "data": {
            "text/plain": [
              "(2246, 46)"
            ]
          },
          "metadata": {},
          "execution_count": 16
        }
      ]
    }
  ]
}